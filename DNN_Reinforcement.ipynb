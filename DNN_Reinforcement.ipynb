{
 "cells": [
  {
   "cell_type": "markdown",
   "metadata": {},
   "source": [
    "# Deep Reinforcement Learning for Breakout\n",
    "Model that learns to play video game using a deep neural network and reinforcement learning (Q-leaning)."
   ]
  },
  {
   "cell_type": "code",
   "execution_count": 1,
   "metadata": {
    "collapsed": false
   },
   "outputs": [
    {
     "name": "stderr",
     "output_type": "stream",
     "text": [
      "Using TensorFlow backend.\n"
     ]
    }
   ],
   "source": [
    "#Importing librairies\n",
    "import numpy as np\n",
    "from   gym import envs\n",
    "import gym\n",
    "\n",
    "#Keras\n",
    "from keras.models     import Sequential\n",
    "from keras.layers     import Dense, Convolution2D, MaxPooling2D, Dropout, Flatten\n",
    "from keras.optimizers import SGD, RMSprop\n",
    "from keras.utils      import np_utils"
   ]
  },
  {
   "cell_type": "markdown",
   "metadata": {},
   "source": [
    "## Creating Game Environment"
   ]
  },
  {
   "cell_type": "code",
   "execution_count": 2,
   "metadata": {
    "collapsed": false
   },
   "outputs": [
    {
     "name": "stderr",
     "output_type": "stream",
     "text": [
      "[2017-03-23 18:16:31,204] Making new env: Breakout-v3\n"
     ]
    },
    {
     "name": "stdout",
     "output_type": "stream",
     "text": [
      "Observation space : Box(210, 160, 3)\n"
     ]
    }
   ],
   "source": [
    "#Creating environment (with render)\n",
    "env = gym.make('Breakout-v3')\n",
    "print('Observation space : ' + str(env.observation_space))\n",
    "\n",
    "#2d shape of image\n",
    "imSize = env.reset().shape[:2]\n",
    "imSize = [imSize[0], imSize[1],1] #Specify 3rd d"
   ]
  },
  {
   "cell_type": "markdown",
   "metadata": {},
   "source": [
    "## Neural Network"
   ]
  },
  {
   "cell_type": "code",
   "execution_count": 3,
   "metadata": {
    "collapsed": true
   },
   "outputs": [],
   "source": [
    "#Convolutional neural network\n",
    "\n",
    "def cnnModel(layerDim, poolSize, imSize, actFct, initW, dropProb):\n",
    "    ''' Will build a generative deep NN model taking the following arguments:\n",
    "        \n",
    "        nUnits   : Vector of number of units per layer (will specify number of layers)\n",
    "        actFct   : Activation function for layers\n",
    "        initW    : How to initialize the weights of each layer\n",
    "        dropProb : Dropout probability\n",
    "        \n",
    "        '''\n",
    "    \n",
    "    #Initializing our architecture as a feedforward network\n",
    "    m = Sequential()\n",
    "\n",
    "    for L in range(len(layerDim)):\n",
    "        \n",
    "        #Input dimension of current layer\n",
    "        if not L:\n",
    "            inputDim = imSize #If input layer\n",
    "        else:\n",
    "            inputDim = layerDim[L-1] \n",
    "        \n",
    "        #CNN layer\n",
    "        m.add(Convolution2D( layerDim[L][0], layerDim[L][1], layerDim[L][2], \n",
    "                             border_mode='same', input_shape = inputDim, \n",
    "                             init = initW, activation = actFct) )\n",
    "        \n",
    "        #Pooling layer\n",
    "        m.add(MaxPooling2D(pool_size= poolSize, strides=(2,2), border_mode='same'))\n",
    "            \n",
    "            \n",
    "        #Adding dropout if not input or last layer\n",
    "        if (L > 0) and (L < len(layerDim)-1): \n",
    "            m.add(Dropout(dropProb))\n",
    "\n",
    "    #Flattening for fully connected NN\n",
    "    m.add(Flatten())\n",
    "    m.add(Dropout(dropProb))\n",
    "    \n",
    "    return m"
   ]
  },
  {
   "cell_type": "code",
   "execution_count": 4,
   "metadata": {
    "collapsed": false
   },
   "outputs": [
    {
     "name": "stdout",
     "output_type": "stream",
     "text": [
      "____________________________________________________________________________________________________\n",
      "Layer (type)                     Output Shape          Param #     Connected to                     \n",
      "====================================================================================================\n",
      "convolution2d_1 (Convolution2D)  (None, 210, 160, 256) 65792       convolution2d_input_1[0][0]      \n",
      "____________________________________________________________________________________________________\n",
      "maxpooling2d_1 (MaxPooling2D)    (None, 105, 80, 256)  0           convolution2d_1[0][0]            \n",
      "____________________________________________________________________________________________________\n",
      "convolution2d_2 (Convolution2D)  (None, 105, 80, 64)   262208      maxpooling2d_1[0][0]             \n",
      "____________________________________________________________________________________________________\n",
      "maxpooling2d_2 (MaxPooling2D)    (None, 53, 40, 64)    0           convolution2d_2[0][0]            \n",
      "____________________________________________________________________________________________________\n",
      "dropout_1 (Dropout)              (None, 53, 40, 64)    0           maxpooling2d_2[0][0]             \n",
      "____________________________________________________________________________________________________\n",
      "convolution2d_3 (Convolution2D)  (None, 53, 40, 256)   147712      dropout_1[0][0]                  \n",
      "____________________________________________________________________________________________________\n",
      "maxpooling2d_3 (MaxPooling2D)    (None, 27, 20, 256)   0           convolution2d_3[0][0]            \n",
      "____________________________________________________________________________________________________\n",
      "flatten_1 (Flatten)              (None, 138240)        0           maxpooling2d_3[0][0]             \n",
      "____________________________________________________________________________________________________\n",
      "dropout_2 (Dropout)              (None, 138240)        0           flatten_1[0][0]                  \n",
      "====================================================================================================\n",
      "Total params: 475712\n",
      "____________________________________________________________________________________________________\n"
     ]
    }
   ],
   "source": [
    "### CNN parameters\n",
    "\n",
    "layerDim_cnn = [ [256,16,16] , [64,4,4] , [256,3,3] ]\n",
    "poolSize     = [2,2]\n",
    "acft_cnn     = 'relu'\n",
    "initW        = 'normal'\n",
    "dropProb_cnn =  0.5\n",
    "\n",
    "\n",
    "#Building the CNN\n",
    "cnn = cnnModel(layerDim_cnn, poolSize, imSize, acft_cnn, initW, dropProb_cnn)\n",
    "cnn.summary()"
   ]
  }
 ],
 "metadata": {
  "kernelspec": {
   "display_name": "Python 3",
   "language": "python",
   "name": "python3"
  },
  "language_info": {
   "codemirror_mode": {
    "name": "ipython",
    "version": 3
   },
   "file_extension": ".py",
   "mimetype": "text/x-python",
   "name": "python",
   "nbconvert_exporter": "python",
   "pygments_lexer": "ipython3",
   "version": "3.5.3"
  }
 },
 "nbformat": 4,
 "nbformat_minor": 2
}
